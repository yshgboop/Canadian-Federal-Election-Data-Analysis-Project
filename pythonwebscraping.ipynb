{
  "nbformat": 4,
  "nbformat_minor": 0,
  "metadata": {
    "colab": {
      "provenance": [],
      "authorship_tag": "ABX9TyOw4l9ccOZ0GNc4LXA1DRcQ",
      "include_colab_link": true
    },
    "kernelspec": {
      "name": "python3",
      "display_name": "Python 3"
    },
    "language_info": {
      "name": "python"
    }
  },
  "cells": [
    {
      "cell_type": "markdown",
      "metadata": {
        "id": "view-in-github",
        "colab_type": "text"
      },
      "source": [
        "<a href=\"https://colab.research.google.com/github/yshgboop/Canadian-Federal-Election-Data-Analysis-Project/blob/master/pythonwebscraping.ipynb\" target=\"_parent\"><img src=\"https://colab.research.google.com/assets/colab-badge.svg\" alt=\"Open In Colab\"/></a>"
      ]
    },
    {
      "cell_type": "code",
      "execution_count": null,
      "metadata": {
        "colab": {
          "base_uri": "https://localhost:8080/"
        },
        "id": "Rab1bL4mr8OX",
        "outputId": "74142d3a-0b3a-45f3-ad97-97836888e542"
      },
      "outputs": [
        {
          "output_type": "stream",
          "name": "stdout",
          "text": [
            "Fetching records 0 to 2000...\n",
            "Fetching records 2000 to 4000...\n",
            "Fetching records 4000 to 6000...\n",
            "Fetching records 6000 to 8000...\n",
            "Fetching records 8000 to 10000...\n",
            "Fetching records 10000 to 12000...\n",
            "Fetching records 12000 to 14000...\n",
            "Fetching records 14000 to 16000...\n",
            "Fetching records 16000 to 18000...\n",
            "Fetching records 18000 to 20000...\n",
            "Total records fetched: 16117\n",
            "Data saved to HI_State_Ignitions_All.csv\n"
          ]
        }
      ],
      "source": [
        "import requests\n",
        "import pandas as pd\n",
        "\n",
        "# Define the API URL\n",
        "url = \"https://services1.arcgis.com/x4h61KaW16vFs7PM/arcgis/rest/services/HI_State_Ignitions_2000_2020_Trim/FeatureServer/0/query\"\n",
        "\n",
        "# Initialize parameters\n",
        "params = {\n",
        "    'where': '1=1',          # Select all records\n",
        "    'outFields': '*',        # Return all fields\n",
        "    'f': 'json',             # Output format\n",
        "    'returnGeometry': 'true', # Include geometry\n",
        "    'outSR': '4326',         # Spatial reference system (WGS84)\n",
        "}\n",
        "\n",
        "# Retrieve maxRecordCount from layer metadata\n",
        "metadata_url = \"https://services1.arcgis.com/x4h61KaW16vFs7PM/arcgis/rest/services/HI_State_Ignitions_2000_2020_Trim/FeatureServer/0?f=json\"\n",
        "\n",
        "metadata_response = requests.get(metadata_url)\n",
        "if metadata_response.status_code == 200:\n",
        "    metadata = metadata_response.json()\n",
        "    max_record_count = metadata.get('maxRecordCount', 1000)\n",
        "else:\n",
        "    print(f\"Failed to retrieve metadata. Using default maxRecordCount of 1000.\")\n",
        "    max_record_count = 1000\n",
        "\n",
        "# Prepare to collect all features\n",
        "all_features = []\n",
        "offset = 0\n",
        "\n",
        "while True:\n",
        "    print(f\"Fetching records {offset} to {offset + max_record_count}...\")\n",
        "    # Update parameters with paging\n",
        "    params.update({\n",
        "        'resultOffset': offset,\n",
        "        'resultRecordCount': max_record_count\n",
        "    })\n",
        "\n",
        "    # Make the API request\n",
        "    response = requests.get(url, params=params)\n",
        "    if response.status_code == 200:\n",
        "        data = response.json()\n",
        "        features = data.get('features', [])\n",
        "        if not features:\n",
        "            break  # No more records to fetch\n",
        "        all_features.extend(features)\n",
        "        offset += max_record_count\n",
        "    else:\n",
        "        print(f\"Error fetching data: {response.status_code}\")\n",
        "        break\n",
        "\n",
        "print(f\"Total records fetched: {len(all_features)}\")\n",
        "\n",
        "# Extract attributes\n",
        "attributes_list = [feature['attributes'] for feature in all_features]\n",
        "\n",
        "# Convert to DataFrame\n",
        "df = pd.DataFrame(attributes_list)\n",
        "\n",
        "# Save to CSV\n",
        "df.to_csv('HI_State_Ignitions_All.csv', index=False)\n",
        "\n",
        "print(\"Data saved to HI_State_Ignitions_All.csv\")\n"
      ]
    }
  ]
}